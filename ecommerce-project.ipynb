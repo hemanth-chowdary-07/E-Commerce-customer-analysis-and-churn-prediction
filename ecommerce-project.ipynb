{
 "cells": [
  {
   "cell_type": "code",
   "execution_count": 1,
   "id": "e8b4b52c-de9c-4424-b3cd-1594beedb49d",
   "metadata": {
    "execution": {
     "iopub.execute_input": "2024-11-07T23:54:16.169788Z",
     "iopub.status.busy": "2024-11-07T23:54:16.169477Z",
     "iopub.status.idle": "2024-11-07T23:55:42.384631Z",
     "shell.execute_reply": "2024-11-07T23:55:42.383775Z",
     "shell.execute_reply.started": "2024-11-07T23:54:16.169756Z"
    },
    "tags": []
   },
   "outputs": [
    {
     "data": {
      "application/vnd.jupyter.widget-view+json": {
       "model_id": "ec59606a6b3d40dfa3698f7b713b2ec2",
       "version_major": 2,
       "version_minor": 0
      },
      "text/plain": [
       "VBox()"
      ]
     },
     "metadata": {},
     "output_type": "display_data"
    },
    {
     "name": "stdout",
     "output_type": "stream",
     "text": [
      "Starting Spark application\n"
     ]
    },
    {
     "data": {
      "text/html": [
       "<table>\n<tbody><tr><th>ID</th><th>YARN Application ID</th><th>Kind</th><th>State</th><th>Spark UI</th><th>Driver log</th><th>User</th><th>Current session?</th></tr><tr><td>0</td><td>application_1731022594447_0001</td><td>pyspark</td><td>idle</td><td><a target=\"_blank\" href=\"http://ip-10-0-16-205.ec2.internal:20888/proxy/application_1731022594447_0001/\" class=\"emr-proxy-link j-19MPE7F95I867 application_1731022594447_0001\" emr-resource=\"j-19MPE7F95I867\n\" application-id=\"application_1731022594447_0001\">Link</a></td><td><a target=\"_blank\" href=\"http://ip-10-0-17-139.ec2.internal:8042/node/containerlogs/container_1731022594447_0001_01_000001/livy\">Link</a></td><td>None</td><td>✔</td></tr></tbody></table>"
      ],
      "text/plain": [
       "<IPython.core.display.HTML object>"
      ]
     },
     "metadata": {},
     "output_type": "display_data"
    },
    {
     "data": {
      "application/vnd.jupyter.widget-view+json": {
       "model_id": "",
       "version_major": 2,
       "version_minor": 0
      },
      "text/plain": [
       "FloatProgress(value=0.0, bar_style='info', description='Progress:', layout=Layout(height='25px', width='50%'),…"
      ]
     },
     "metadata": {},
     "output_type": "display_data"
    },
    {
     "name": "stdout",
     "output_type": "stream",
     "text": [
      "SparkSession available as 'spark'.\n"
     ]
    },
    {
     "data": {
      "application/vnd.jupyter.widget-view+json": {
       "model_id": "",
       "version_major": 2,
       "version_minor": 0
      },
      "text/plain": [
       "FloatProgress(value=0.0, bar_style='info', description='Progress:', layout=Layout(height='25px', width='50%'),…"
      ]
     },
     "metadata": {},
     "output_type": "display_data"
    },
    {
     "name": "stdout",
     "output_type": "stream",
     "text": [
      "DataFrame[Customer ID: int, Purchase Date: timestamp, Product Category: string, Product Price: int, Quantity: int, Total Purchase Amount: int, Payment Method: string, Customer Age: int, Returns: double, Customer Name: string, Age: int, Gender: string, Churn: int]"
     ]
    }
   ],
   "source": [
    "from pyspark.sql import SparkSession\n",
    "from pyspark.sql.functions import col, when\n",
    "from pyspark.ml.feature import VectorAssembler, StandardScaler, StringIndexer\n",
    "from pyspark.ml.clustering import KMeans\n",
    "from pyspark.ml.classification import RandomForestClassifier, LogisticRegression\n",
    "from pyspark.ml.recommendation import ALS\n",
    "from pyspark.ml.evaluation import ClusteringEvaluator, MulticlassClassificationEvaluator\n",
    "\n",
    "# Initialize Spark session\n",
    "spark = SparkSession.builder.appName(\"ECommerceCustomerAnalysis\").getOrCreate()\n",
    "\n",
    "# Load dataset\n",
    "df = spark.read.csv(\"s3://ecommerce-project-new1/ecommerce_customer_data_custom_ratios.csv\", header=True, inferSchema=True)\n",
    "\n",
    "df"
   ]
  },
  {
   "cell_type": "code",
   "execution_count": 3,
   "id": "be9d3f90-bb91-4b95-a1dd-a36b1874d21d",
   "metadata": {
    "execution": {
     "iopub.execute_input": "2024-11-07T23:58:45.845812Z",
     "iopub.status.busy": "2024-11-07T23:58:45.845553Z",
     "iopub.status.idle": "2024-11-07T23:58:46.109611Z",
     "shell.execute_reply": "2024-11-07T23:58:46.108892Z",
     "shell.execute_reply.started": "2024-11-07T23:58:45.845787Z"
    },
    "tags": []
   },
   "outputs": [
    {
     "data": {
      "application/vnd.jupyter.widget-view+json": {
       "model_id": "25ed2c0f49af4a4f92064b3fb238c35f",
       "version_major": 2,
       "version_minor": 0
      },
      "text/plain": [
       "VBox()"
      ]
     },
     "metadata": {},
     "output_type": "display_data"
    },
    {
     "data": {
      "application/vnd.jupyter.widget-view+json": {
       "model_id": "",
       "version_major": 2,
       "version_minor": 0
      },
      "text/plain": [
       "FloatProgress(value=0.0, bar_style='info', description='Progress:', layout=Layout(height='25px', width='50%'),…"
      ]
     },
     "metadata": {},
     "output_type": "display_data"
    },
    {
     "name": "stdout",
     "output_type": "stream",
     "text": [
      "DataFrame[Product Category: string, Product Price: int, Quantity: int, Total Purchase Amount: float, Payment Method: string, Customer Age: int, Returns: double, Age: int, Gender: string, Churn: int]"
     ]
    }
   ],
   "source": [
    "# Data Cleaning\n",
    "# Drop duplicates\n",
    "df = df.dropDuplicates()\n",
    "\n",
    "# Drop unnecessary columns\n",
    "df = df.drop(\"Customer Name\", \"Purchase Date\", \"Customer ID\")\n",
    "\n",
    "# Handling missing values\n",
    "df = df.na.fill({\"Returns\": 0})  # Replace nulls in 'Returns' with 0\n",
    "\n",
    "# Data type conversion if needed\n",
    "df = df.withColumn(\"Churn\", col(\"Churn\").cast(\"int\"))\n",
    "\n",
    "# Filter only required columns and apply transformations if needed\n",
    "df = df.withColumn(\"Total Purchase Amount\", col(\"Total Purchase Amount\").cast(\"float\"))\n",
    "\n",
    "df\n",
    "\n",
    "\n",
    "\n"
   ]
  },
  {
   "cell_type": "code",
   "execution_count": 4,
   "id": "c606834b-4fbd-43ff-932f-e59181710320",
   "metadata": {
    "execution": {
     "iopub.execute_input": "2024-11-07T23:58:52.968928Z",
     "iopub.status.busy": "2024-11-07T23:58:52.968706Z",
     "iopub.status.idle": "2024-11-07T23:59:36.577002Z",
     "shell.execute_reply": "2024-11-07T23:59:36.576019Z",
     "shell.execute_reply.started": "2024-11-07T23:58:52.968903Z"
    }
   },
   "outputs": [
    {
     "data": {
      "application/vnd.jupyter.widget-view+json": {
       "model_id": "e1d103d11302419d8bd6d15d6cce4c29",
       "version_major": 2,
       "version_minor": 0
      },
      "text/plain": [
       "VBox()"
      ]
     },
     "metadata": {},
     "output_type": "display_data"
    },
    {
     "data": {
      "application/vnd.jupyter.widget-view+json": {
       "model_id": "",
       "version_major": 2,
       "version_minor": 0
      },
      "text/plain": [
       "FloatProgress(value=0.0, bar_style='info', description='Progress:', layout=Layout(height='25px', width='50%'),…"
      ]
     },
     "metadata": {},
     "output_type": "display_data"
    },
    {
     "name": "stdout",
     "output_type": "stream",
     "text": [
      "Silhouette Score for KMeans Clustering: -0.023337180964140614\n",
      "Cluster Centers: [array([1.676504  , 1.49696998, 1.88759033, 3.72829395]), array([1.80319786, 3.2073973 , 1.8913154 , 2.85587593]), array([1.92430883, 1.50394717, 1.88702729, 1.94603597])]"
     ]
    }
   ],
   "source": [
    "# 1. Customer Segmentation (Clustering)\n",
    "# Vectorize features for clustering\n",
    "assembler = VectorAssembler(inputCols=[\"Product Price\", \"Quantity\", \"Total Purchase Amount\", \"Customer Age\"], outputCol=\"features\")\n",
    "df_features = assembler.transform(df)\n",
    "\n",
    "# Scale the features\n",
    "scaler = StandardScaler(inputCol=\"features\", outputCol=\"scaledFeatures\")\n",
    "df_scaled = scaler.fit(df_features).transform(df_features)\n",
    "\n",
    "# K-Means clustering for customer segmentation\n",
    "kmeans = KMeans(featuresCol=\"scaledFeatures\", k=3)\n",
    "kmeans_model = kmeans.fit(df_scaled)\n",
    "clusters = kmeans_model.transform(df_scaled)\n",
    "\n",
    "# Evaluate clustering\n",
    "clustering_evaluator = ClusteringEvaluator()\n",
    "silhouette_score = clustering_evaluator.evaluate(clusters)\n",
    "print(\"Silhouette Score for KMeans Clustering:\", silhouette_score)\n",
    "\n",
    "# Optional: Show cluster centers for interpretation\n",
    "print(\"Cluster Centers:\", kmeans_model.clusterCenters())"
   ]
  },
  {
   "cell_type": "code",
   "execution_count": 5,
   "id": "14a48389-7d39-442a-90d5-b89fd5d613d5",
   "metadata": {
    "execution": {
     "iopub.execute_input": "2024-11-08T00:01:29.233288Z",
     "iopub.status.busy": "2024-11-08T00:01:29.233059Z",
     "iopub.status.idle": "2024-11-08T00:02:14.817255Z",
     "shell.execute_reply": "2024-11-08T00:02:14.816475Z",
     "shell.execute_reply.started": "2024-11-08T00:01:29.233263Z"
    }
   },
   "outputs": [
    {
     "data": {
      "application/vnd.jupyter.widget-view+json": {
       "model_id": "6dcbe04a18e84dcb8cffeadd574e106d",
       "version_major": 2,
       "version_minor": 0
      },
      "text/plain": [
       "VBox()"
      ]
     },
     "metadata": {},
     "output_type": "display_data"
    },
    {
     "data": {
      "application/vnd.jupyter.widget-view+json": {
       "model_id": "",
       "version_major": 2,
       "version_minor": 0
      },
      "text/plain": [
       "FloatProgress(value=0.0, bar_style='info', description='Progress:', layout=Layout(height='25px', width='50%'),…"
      ]
     },
     "metadata": {},
     "output_type": "display_data"
    },
    {
     "name": "stdout",
     "output_type": "stream",
     "text": [
      "Random Forest Churn Prediction Accuracy: 0.7993213669035859\n",
      "Logistic Regression Churn Prediction Accuracy: 0.7993213669035859"
     ]
    }
   ],
   "source": [
    "# 2. Churn Prediction (Predictive Modeling)\n",
    "# Index categorical variables\n",
    "indexer = StringIndexer(inputCols=[\"Product Category\", \"Payment Method\", \"Gender\"], outputCols=[\"ProductCategoryIndex\", \"PaymentMethodIndex\", \"GenderIndex\"])\n",
    "df_indexed = indexer.fit(df).transform(df)\n",
    "\n",
    "# Vectorize features for modeling\n",
    "feature_columns = [\"ProductCategoryIndex\", \"PaymentMethodIndex\", \"GenderIndex\", \"Product Price\", \"Quantity\", \"Total Purchase Amount\", \"Customer Age\", \"Returns\"]\n",
    "assembler = VectorAssembler(inputCols=feature_columns, outputCol=\"features\")\n",
    "df_model = assembler.transform(df_indexed)\n",
    "\n",
    "# Train-Test Split\n",
    "train_df, test_df = df_model.randomSplit([0.8, 0.2], seed=42)\n",
    "\n",
    "# Churn Prediction Model - Random Forest\n",
    "rf = RandomForestClassifier(labelCol=\"Churn\", featuresCol=\"features\")\n",
    "rf_model = rf.fit(train_df)\n",
    "rf_predictions = rf_model.transform(test_df)\n",
    "\n",
    "# Evaluation\n",
    "evaluator = MulticlassClassificationEvaluator(labelCol=\"Churn\", metricName=\"accuracy\")\n",
    "rf_accuracy = evaluator.evaluate(rf_predictions)\n",
    "print(\"Random Forest Churn Prediction Accuracy:\", rf_accuracy)\n",
    "\n",
    "# Logistic Regression for comparison\n",
    "lr = LogisticRegression(labelCol=\"Churn\", featuresCol=\"features\")\n",
    "lr_model = lr.fit(train_df)\n",
    "lr_predictions = lr_model.transform(test_df)\n",
    "\n",
    "# Logistic Regression Evaluation\n",
    "lr_accuracy = evaluator.evaluate(lr_predictions)\n",
    "print(\"Logistic Regression Churn Prediction Accuracy:\", lr_accuracy)"
   ]
  },
  {
   "cell_type": "code",
   "execution_count": 10,
   "id": "6e706049-26a6-400d-8487-2e3d9dae5da4",
   "metadata": {
    "execution": {
     "iopub.execute_input": "2024-11-08T00:06:13.559664Z",
     "iopub.status.busy": "2024-11-08T00:06:13.559438Z",
     "iopub.status.idle": "2024-11-08T00:07:13.618032Z",
     "shell.execute_reply": "2024-11-08T00:07:13.616954Z",
     "shell.execute_reply.started": "2024-11-08T00:06:13.559641Z"
    },
    "tags": []
   },
   "outputs": [
    {
     "data": {
      "application/vnd.jupyter.widget-view+json": {
       "model_id": "0a5b6f46ac824642b6a1cf1ed27481ab",
       "version_major": 2,
       "version_minor": 0
      },
      "text/plain": [
       "VBox()"
      ]
     },
     "metadata": {},
     "output_type": "display_data"
    },
    {
     "data": {
      "application/vnd.jupyter.widget-view+json": {
       "model_id": "",
       "version_major": 2,
       "version_minor": 0
      },
      "text/plain": [
       "FloatProgress(value=0.0, bar_style='info', description='Progress:', layout=Layout(height='25px', width='50%'),…"
      ]
     },
     "metadata": {},
     "output_type": "display_data"
    },
    {
     "name": "stdout",
     "output_type": "stream",
     "text": [
      "Gradient-Boosted Tree Churn Prediction Accuracy: 0.7993213669035859"
     ]
    }
   ],
   "source": [
    "from pyspark.ml.classification import GBTClassifier\n",
    "\n",
    "# Initialize Gradient-Boosted Tree model\n",
    "gbt = GBTClassifier(labelCol=\"Churn\", featuresCol=\"features\", maxIter=10)\n",
    "gbt_model = gbt.fit(train_df)\n",
    "gbt_predictions = gbt_model.transform(test_df)\n",
    "\n",
    "# Evaluate Gradient-Boosted Tree model\n",
    "gbt_accuracy = evaluator.evaluate(gbt_predictions)\n",
    "print(\"Gradient-Boosted Tree Churn Prediction Accuracy:\", gbt_accuracy)\n",
    "\n"
   ]
  },
  {
   "cell_type": "code",
   "execution_count": 11,
   "id": "2aa9b43e-984a-4e3b-adec-658b869c9459",
   "metadata": {
    "execution": {
     "iopub.execute_input": "2024-11-08T00:07:19.199269Z",
     "iopub.status.busy": "2024-11-08T00:07:19.198913Z",
     "iopub.status.idle": "2024-11-08T00:07:51.695855Z",
     "shell.execute_reply": "2024-11-08T00:07:51.694938Z",
     "shell.execute_reply.started": "2024-11-08T00:07:19.199227Z"
    }
   },
   "outputs": [
    {
     "data": {
      "application/vnd.jupyter.widget-view+json": {
       "model_id": "8907a9695e29408db96d52f5fd43cc1b",
       "version_major": 2,
       "version_minor": 0
      },
      "text/plain": [
       "VBox()"
      ]
     },
     "metadata": {},
     "output_type": "display_data"
    },
    {
     "data": {
      "application/vnd.jupyter.widget-view+json": {
       "model_id": "",
       "version_major": 2,
       "version_minor": 0
      },
      "text/plain": [
       "FloatProgress(value=0.0, bar_style='info', description='Progress:', layout=Layout(height='25px', width='50%'),…"
      ]
     },
     "metadata": {},
     "output_type": "display_data"
    },
    {
     "name": "stdout",
     "output_type": "stream",
     "text": [
      "SVM Churn Prediction Accuracy: 0.7993213669035859"
     ]
    }
   ],
   "source": [
    "from pyspark.ml.classification import LinearSVC\n",
    "\n",
    "# Initialize SVM model\n",
    "svm = LinearSVC(labelCol=\"Churn\", featuresCol=\"features\", maxIter=10, regParam=0.1)\n",
    "svm_model = svm.fit(train_df)\n",
    "svm_predictions = svm_model.transform(test_df)\n",
    "\n",
    "# Evaluate SVM model\n",
    "svm_accuracy = evaluator.evaluate(svm_predictions)\n",
    "print(\"SVM Churn Prediction Accuracy:\", svm_accuracy)\n"
   ]
  },
  {
   "cell_type": "code",
   "execution_count": 12,
   "id": "eebeba3f-ee2c-4793-9957-563109aa0246",
   "metadata": {
    "execution": {
     "iopub.execute_input": "2024-11-08T00:07:58.370093Z",
     "iopub.status.busy": "2024-11-08T00:07:58.369789Z",
     "iopub.status.idle": "2024-11-08T00:08:04.339471Z",
     "shell.execute_reply": "2024-11-08T00:08:04.316836Z",
     "shell.execute_reply.started": "2024-11-08T00:07:58.370058Z"
    }
   },
   "outputs": [
    {
     "data": {
      "application/vnd.jupyter.widget-view+json": {
       "model_id": "46123e00ab1a4373847c6b72ce50c777",
       "version_major": 2,
       "version_minor": 0
      },
      "text/plain": [
       "VBox()"
      ]
     },
     "metadata": {},
     "output_type": "display_data"
    },
    {
     "data": {
      "application/vnd.jupyter.widget-view+json": {
       "model_id": "",
       "version_major": 2,
       "version_minor": 0
      },
      "text/plain": [
       "FloatProgress(value=0.0, bar_style='info', description='Progress:', layout=Layout(height='25px', width='50%'),…"
      ]
     },
     "metadata": {},
     "output_type": "display_data"
    },
    {
     "name": "stdout",
     "output_type": "stream",
     "text": [
      "Naive Bayes Churn Prediction Accuracy: 0.794301891338393"
     ]
    }
   ],
   "source": [
    "from pyspark.ml.classification import NaiveBayes\n",
    "\n",
    "# Initialize Naive Bayes model\n",
    "nb = NaiveBayes(labelCol=\"Churn\", featuresCol=\"features\", smoothing=1.0)\n",
    "nb_model = nb.fit(train_df)\n",
    "nb_predictions = nb_model.transform(test_df)\n",
    "\n",
    "# Evaluate Naive Bayes model\n",
    "nb_accuracy = evaluator.evaluate(nb_predictions)\n",
    "print(\"Naive Bayes Churn Prediction Accuracy:\", nb_accuracy)\n"
   ]
  },
  {
   "cell_type": "code",
   "execution_count": 13,
   "id": "3b36e952-500a-40c4-9865-f909f04e6398",
   "metadata": {
    "execution": {
     "iopub.execute_input": "2024-11-08T00:08:41.253796Z",
     "iopub.status.busy": "2024-11-08T00:08:41.253575Z",
     "iopub.status.idle": "2024-11-08T00:09:29.046404Z",
     "shell.execute_reply": "2024-11-08T00:09:29.045510Z",
     "shell.execute_reply.started": "2024-11-08T00:08:41.253772Z"
    }
   },
   "outputs": [
    {
     "data": {
      "application/vnd.jupyter.widget-view+json": {
       "model_id": "d295ad88c8bb45b7972c39abdc56ec85",
       "version_major": 2,
       "version_minor": 0
      },
      "text/plain": [
       "VBox()"
      ]
     },
     "metadata": {},
     "output_type": "display_data"
    },
    {
     "data": {
      "application/vnd.jupyter.widget-view+json": {
       "model_id": "",
       "version_major": 2,
       "version_minor": 0
      },
      "text/plain": [
       "FloatProgress(value=0.0, bar_style='info', description='Progress:', layout=Layout(height='25px', width='50%'),…"
      ]
     },
     "metadata": {},
     "output_type": "display_data"
    },
    {
     "name": "stdout",
     "output_type": "stream",
     "text": [
      "MLP Churn Prediction Accuracy: 0.7993213669035859"
     ]
    }
   ],
   "source": [
    "from pyspark.ml.classification import MultilayerPerceptronClassifier\n",
    "\n",
    "# Define network layers for MLP\n",
    "layers = [len(feature_columns), 20, 10, 2]  # Adjust based on your data\n",
    "\n",
    "# Initialize MLP model\n",
    "mlp = MultilayerPerceptronClassifier(labelCol=\"Churn\", featuresCol=\"features\", maxIter=100, layers=layers)\n",
    "mlp_model = mlp.fit(train_df)\n",
    "mlp_predictions = mlp_model.transform(test_df)\n",
    "\n",
    "# Evaluate MLP model\n",
    "mlp_accuracy = evaluator.evaluate(mlp_predictions)\n",
    "print(\"MLP Churn Prediction Accuracy:\", mlp_accuracy)\n"
   ]
  },
  {
   "cell_type": "code",
   "execution_count": 14,
   "id": "bc768741-b2d7-4639-93f8-34cf1bb4429f",
   "metadata": {
    "execution": {
     "iopub.execute_input": "2024-11-08T00:09:34.379395Z",
     "iopub.status.busy": "2024-11-08T00:09:34.379111Z",
     "iopub.status.idle": "2024-11-08T00:09:40.982077Z",
     "shell.execute_reply": "2024-11-08T00:09:40.981450Z",
     "shell.execute_reply.started": "2024-11-08T00:09:34.379355Z"
    },
    "tags": []
   },
   "outputs": [
    {
     "data": {
      "application/vnd.jupyter.widget-view+json": {
       "model_id": "98083893f4244c749bfa06c19504a483",
       "version_major": 2,
       "version_minor": 0
      },
      "text/plain": [
       "VBox()"
      ]
     },
     "metadata": {},
     "output_type": "display_data"
    },
    {
     "data": {
      "application/vnd.jupyter.widget-view+json": {
       "model_id": "",
       "version_major": 2,
       "version_minor": 0
      },
      "text/plain": [
       "FloatProgress(value=0.0, bar_style='info', description='Progress:', layout=Layout(height='25px', width='50%'),…"
      ]
     },
     "metadata": {},
     "output_type": "display_data"
    },
    {
     "name": "stdout",
     "output_type": "stream",
     "text": [
      "Random Forest Churn Prediction F1 Score: 0.71017291223314\n",
      "GBT Churn Prediction F1 Score: 0.71017291223314\n",
      "Logistic Regression Churn Prediction F1 Score: 0.71017291223314"
     ]
    }
   ],
   "source": [
    "# Evaluation using F1-score instead of accuracy\n",
    "evaluator_f1 = MulticlassClassificationEvaluator(labelCol=\"Churn\", metricName=\"f1\")\n",
    "\n",
    "# Evaluate models on F1-score\n",
    "rf_f1 = evaluator_f1.evaluate(rf_predictions)\n",
    "print(\"Random Forest Churn Prediction F1 Score:\", rf_f1)\n",
    "\n",
    "gbt_f1 = evaluator_f1.evaluate(gbt_predictions)\n",
    "print(\"GBT Churn Prediction F1 Score:\", gbt_f1)\n",
    "\n",
    "lr_f1 = evaluator_f1.evaluate(lr_predictions)\n",
    "print(\"Logistic Regression Churn Prediction F1 Score:\", lr_f1)\n"
   ]
  },
  {
   "cell_type": "code",
   "execution_count": null,
   "id": "eaacee16-3f71-45ed-8cec-9005fb4b6e16",
   "metadata": {},
   "outputs": [],
   "source": []
  }
 ],
 "metadata": {
  "kernelspec": {
   "display_name": "PySpark",
   "language": "python",
   "name": "pysparkkernel"
  },
  "language_info": {
   "codemirror_mode": {
    "name": "python",
    "version": 3
   },
   "file_extension": ".py",
   "mimetype": "text/x-python",
   "name": "pyspark",
   "pygments_lexer": "python3"
  }
 },
 "nbformat": 4,
 "nbformat_minor": 5
}
